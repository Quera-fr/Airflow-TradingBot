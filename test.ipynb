{
 "cells": [
  {
   "cell_type": "code",
   "execution_count": 4,
   "id": "77b7edb9",
   "metadata": {},
   "outputs": [],
   "source": [
    "import json\n",
    "\n",
    "with open(\"memory.json\", \"r\") as f:\n",
    "    memory = json.load(f)\n"
   ]
  },
  {
   "cell_type": "code",
   "execution_count": 5,
   "id": "c402b8bc",
   "metadata": {},
   "outputs": [
    {
     "data": {
      "text/plain": [
       "[]"
      ]
     },
     "execution_count": 5,
     "metadata": {},
     "output_type": "execute_result"
    }
   ],
   "source": [
    "memory[\"capital_history\"]"
   ]
  },
  {
   "cell_type": "code",
   "execution_count": 3,
   "id": "86d5fa76",
   "metadata": {},
   "outputs": [],
   "source": [
    "with open(\"memory.json\", \"w\") as f:\n",
    "    json.dump(memory, f, indent=2)"
   ]
  },
  {
   "cell_type": "code",
   "execution_count": null,
   "id": "8b9e23b6",
   "metadata": {},
   "outputs": [],
   "source": [
    "from utiles import "
   ]
  },
  {
   "cell_type": "code",
   "execution_count": 1,
   "id": "0cde587f",
   "metadata": {},
   "outputs": [
    {
     "data": {
      "text/plain": [
       "0.9998"
      ]
     },
     "execution_count": 1,
     "metadata": {},
     "output_type": "execute_result"
    }
   ],
   "source": [
    "import os\n",
    "from plugins.utiles import *\n",
    "from binance.client import Client\n",
    "\n",
    "api_key = os.getenv(\"BINANCE_API_KEY\")\n",
    "api_secret = os.getenv(\"BINANCE_API_SECRET\")\n",
    "\n",
    "client = Client(api_key, api_secret)\n",
    "\n",
    "# USDC PRICE\n",
    "px = float(client.get_symbol_ticker(symbol=\"USDCUSDT\")[\"price\"])\n",
    "px"
   ]
  },
  {
   "cell_type": "code",
   "execution_count": 2,
   "id": "f63b9c8b",
   "metadata": {},
   "outputs": [
    {
     "data": {
      "text/plain": [
       "{'symbol': 'ETHUSDC',\n",
       " 'tf': '1h',\n",
       " 'fees_bps': 7,\n",
       " 'features': {'ohlcv_stats': {'change_1h_pct': -0.14,\n",
       "   'change_3h_pct': -0.25,\n",
       "   'change_12h_pct': 0.34,\n",
       "   'high_12h': 4500.0,\n",
       "   'low_12h': 4433.78,\n",
       "   'avg_range': 28.57,\n",
       "   'vol_sum': 43514.9902,\n",
       "   'vol_avg': 3626.2492,\n",
       "   'green_bars': 5,\n",
       "   'red_bars': 7,\n",
       "   'longest_green_streak': 3,\n",
       "   'longest_red_streak': 4},\n",
       "  'hourly_snapshots': [{'time': 1756609200,\n",
       "    'close': 4488.8,\n",
       "    'ema20': 4398.16,\n",
       "    'ema50': 4402.71,\n",
       "    'rsi14': 69.0,\n",
       "    'macd': 19.629,\n",
       "    'macd_sig': 5.023,\n",
       "    'macd_hist': 14.607,\n",
       "    'atr_pct': 0.73,\n",
       "    'above_ema': False,\n",
       "    'rsi_trend': 'flat'},\n",
       "   {'time': 1756612800,\n",
       "    'close': 4466.09,\n",
       "    'ema20': 4404.63,\n",
       "    'ema50': 4405.19,\n",
       "    'rsi14': 63.27,\n",
       "    'macd': 22.37,\n",
       "    'macd_sig': 8.492,\n",
       "    'macd_hist': 13.878,\n",
       "    'atr_pct': 0.74,\n",
       "    'above_ema': False,\n",
       "    'rsi_trend': 'flat'},\n",
       "   {'time': 1756616400,\n",
       "    'close': 4460.4,\n",
       "    'ema20': 4409.95,\n",
       "    'ema50': 4407.36,\n",
       "    'rsi14': 61.89,\n",
       "    'macd': 23.809,\n",
       "    'macd_sig': 11.556,\n",
       "    'macd_hist': 12.254,\n",
       "    'atr_pct': 0.69,\n",
       "    'above_ema': True,\n",
       "    'rsi_trend': 'flat'},\n",
       "   {'time': 1756620000,\n",
       "    'close': 4435.44,\n",
       "    'ema20': 4412.37,\n",
       "    'ema50': 4408.46,\n",
       "    'rsi14': 56.09,\n",
       "    'macd': 22.674,\n",
       "    'macd_sig': 13.779,\n",
       "    'macd_hist': 8.895,\n",
       "    'atr_pct': 0.69,\n",
       "    'above_ema': True,\n",
       "    'rsi_trend': 'down'},\n",
       "   {'time': 1756623600,\n",
       "    'close': 4451.83,\n",
       "    'ema20': 4416.13,\n",
       "    'ema50': 4410.16,\n",
       "    'rsi14': 58.82,\n",
       "    'macd': 22.834,\n",
       "    'macd_sig': 15.59,\n",
       "    'macd_hist': 7.243,\n",
       "    'atr_pct': 0.67,\n",
       "    'above_ema': True,\n",
       "    'rsi_trend': 'down'},\n",
       "   {'time': 1756627200,\n",
       "    'close': 4471.97,\n",
       "    'ema20': 4421.45,\n",
       "    'ema50': 4412.59,\n",
       "    'rsi14': 61.95,\n",
       "    'macd': 24.305,\n",
       "    'macd_sig': 17.333,\n",
       "    'macd_hist': 6.972,\n",
       "    'atr_pct': 0.64,\n",
       "    'above_ema': True,\n",
       "    'rsi_trend': 'up'},\n",
       "   {'time': 1756630800,\n",
       "    'close': 4465.4,\n",
       "    'ema20': 4425.63,\n",
       "    'ema50': 4414.66,\n",
       "    'rsi14': 60.34,\n",
       "    'macd': 24.657,\n",
       "    'macd_sig': 18.798,\n",
       "    'macd_hist': 5.859,\n",
       "    'atr_pct': 0.62,\n",
       "    'above_ema': True,\n",
       "    'rsi_trend': 'up'},\n",
       "   {'time': 1756634400,\n",
       "    'close': 4456.6,\n",
       "    'ema20': 4428.58,\n",
       "    'ema50': 4416.3,\n",
       "    'rsi14': 58.15,\n",
       "    'macd': 23.949,\n",
       "    'macd_sig': 19.828,\n",
       "    'macd_hist': 4.121,\n",
       "    'atr_pct': 0.6,\n",
       "    'above_ema': True,\n",
       "    'rsi_trend': 'down'},\n",
       "   {'time': 1756638000,\n",
       "    'close': 4477.61,\n",
       "    'ema20': 4433.25,\n",
       "    'ema50': 4418.71,\n",
       "    'rsi14': 61.71,\n",
       "    'macd': 24.798,\n",
       "    'macd_sig': 20.822,\n",
       "    'macd_hist': 3.976,\n",
       "    'atr_pct': 0.65,\n",
       "    'above_ema': True,\n",
       "    'rsi_trend': 'down'},\n",
       "   {'time': 1756641600,\n",
       "    'close': 4490.62,\n",
       "    'ema20': 4438.72,\n",
       "    'ema50': 4421.53,\n",
       "    'rsi14': 63.77,\n",
       "    'macd': 26.219,\n",
       "    'macd_sig': 21.901,\n",
       "    'macd_hist': 4.317,\n",
       "    'atr_pct': 0.66,\n",
       "    'above_ema': True,\n",
       "    'rsi_trend': 'up'},\n",
       "   {'time': 1756645200,\n",
       "    'close': 4472.16,\n",
       "    'ema20': 4441.9,\n",
       "    'ema50': 4423.51,\n",
       "    'rsi14': 58.94,\n",
       "    'macd': 25.56,\n",
       "    'macd_sig': 22.633,\n",
       "    'macd_hist': 2.927,\n",
       "    'atr_pct': 0.68,\n",
       "    'above_ema': True,\n",
       "    'rsi_trend': 'up'},\n",
       "   {'time': 1756648800,\n",
       "    'close': 4466.21,\n",
       "    'ema20': 4444.22,\n",
       "    'ema50': 4425.19,\n",
       "    'rsi14': 57.42,\n",
       "    'macd': 24.278,\n",
       "    'macd_sig': 22.962,\n",
       "    'macd_hist': 1.316,\n",
       "    'atr_pct': 0.66,\n",
       "    'above_ema': True,\n",
       "    'rsi_trend': 'down'}],\n",
       "  'stats': {'ema20': {'last': 4444.22,\n",
       "    'min': 4398.16,\n",
       "    'max': 4444.22,\n",
       "    'mean': 4422.92,\n",
       "    'slope': 4.1585},\n",
       "   'ema50': {'last': 4425.19,\n",
       "    'min': 4402.71,\n",
       "    'max': 4425.19,\n",
       "    'mean': 4413.86,\n",
       "    'slope': 2.0384},\n",
       "   'rsi14': {'last': 57.42,\n",
       "    'min': 56.09,\n",
       "    'max': 69.0,\n",
       "    'mean': 60.95,\n",
       "    'slope': -0.4498,\n",
       "    'above50_cnt': 12},\n",
       "   'macd': {'last': 24.278,\n",
       "    'signal_last': 22.962,\n",
       "    'hist_last': 1.316,\n",
       "    'hist_mean': 7.197},\n",
       "   'atr_pct': {'last': 0.66, 'mean': 0.67},\n",
       "   'h1': {'dist_ema50_pct': 0.93,\n",
       "    'hh': 4500.0,\n",
       "    'll': 4433.78,\n",
       "    'consec_hist_pos': 12,\n",
       "    'hist_slope_3': -2.66}}}}"
      ]
     },
     "execution_count": 2,
     "metadata": {},
     "output_type": "execute_result"
    }
   ],
   "source": [
    "data = get_market_data(client, limit=12, symbol=\"ETHUSDC\")\n",
    "data"
   ]
  },
  {
   "cell_type": "code",
   "execution_count": null,
   "id": "687b6498",
   "metadata": {},
   "outputs": [],
   "source": []
  }
 ],
 "metadata": {
  "kernelspec": {
   "display_name": "Python 3",
   "language": "python",
   "name": "python3"
  },
  "language_info": {
   "codemirror_mode": {
    "name": "ipython",
    "version": 3
   },
   "file_extension": ".py",
   "mimetype": "text/x-python",
   "name": "python",
   "nbconvert_exporter": "python",
   "pygments_lexer": "ipython3",
   "version": "3.11.8"
  }
 },
 "nbformat": 4,
 "nbformat_minor": 5
}
